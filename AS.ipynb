{
 "cells": [
  {
   "cell_type": "code",
   "execution_count": 1,
   "id": "3af19c6b-3613-45ba-88cf-7ecc41e8ebcb",
   "metadata": {},
   "outputs": [],
   "source": [
    "#Q.1. When to use a for loop and while loop explain with an example?\n",
    "#Ans:- When we know how many times we have to itrate the loop then generally we use for loop. For loop is a commonly used by coders.\n",
    "        #We use While loop when we like put a condition or we can say we use this when we dont knoe what times it'll itrate.\n",
    "    "
   ]
  },
  {
   "cell_type": "code",
   "execution_count": 3,
   "id": "90e1e2be-71e3-4b68-b159-7551093517a6",
   "metadata": {},
   "outputs": [
    {
     "name": "stdin",
     "output_type": "stream",
     "text": [
      "Enter the value till you want an Even number:-  10\n"
     ]
    },
    {
     "name": "stdout",
     "output_type": "stream",
     "text": [
      "[2, 4, 6, 8, 10]\n"
     ]
    }
   ],
   "source": [
    "#Eg for For Loop\n",
    "n=int(input(\"Enter the value till you want an Even number:- \"))\n",
    "l=[]\n",
    "for i in range(1,n+1):\n",
    "    if i%2==0:\n",
    "      l.append(i)\n",
    "print(l)"
   ]
  },
  {
   "cell_type": "code",
   "execution_count": 4,
   "id": "9772df72-e857-4ecb-9762-618288752c87",
   "metadata": {},
   "outputs": [
    {
     "name": "stdout",
     "output_type": "stream",
     "text": [
      "1\n",
      "2\n",
      "3\n",
      "4\n",
      "5\n",
      "i is no longer less than 6\n"
     ]
    }
   ],
   "source": [
    "#Eg for While Loop\n",
    "i = 1\n",
    "while i < 6:\n",
    "  print(i)\n",
    "  i += 1\n",
    "else:\n",
    "    print(\"i is no longer less than 6\")\n"
   ]
  },
  {
   "cell_type": "code",
   "execution_count": 5,
   "id": "2b8339ef-7cc7-4def-871d-dea5f5f7fdd4",
   "metadata": {},
   "outputs": [
    {
     "name": "stdout",
     "output_type": "stream",
     "text": [
      "55\n"
     ]
    }
   ],
   "source": [
    "#sum of first 10 numbers using For Loop\n",
    "sum=0\n",
    "for i in range(1,11):\n",
    "    sum=sum+i\n",
    "print(sum)"
   ]
  },
  {
   "cell_type": "code",
   "execution_count": 6,
   "id": "ad380d04-52de-4345-bc30-881ae60e25ea",
   "metadata": {},
   "outputs": [
    {
     "name": "stdin",
     "output_type": "stream",
     "text": [
      "Enter a number:  10\n"
     ]
    },
    {
     "name": "stdout",
     "output_type": "stream",
     "text": [
      "The result is 55\n"
     ]
    }
   ],
   "source": [
    "num = int(input(\"Enter a number: \")) \n",
    "\n",
    "if num < 0:\n",
    "   print(\"Please enter a positive number\")\n",
    "else:\n",
    "   sum = 0\n",
    "   \n",
    "   # use while loop to iterate until zero\n",
    "   while(num > 0):\n",
    "       sum = sum + num\n",
    "       num = num - 1\n",
    "   print(\"The result is\", sum)"
   ]
  },
  {
   "cell_type": "code",
   "execution_count": 2,
   "id": "6e80595b-e13a-4ff9-85fc-4c23c02b9ed3",
   "metadata": {},
   "outputs": [
    {
     "name": "stdout",
     "output_type": "stream",
     "text": [
      "3628800\n"
     ]
    }
   ],
   "source": [
    "num = 10\n",
    "product = 1\n",
    "num = 1\n",
    "while(num < 11):\n",
    "    product = product * num\n",
    "    num = num + 1\n",
    "print(product)\n",
    "#Don't know why it is not giving output."
   ]
  },
  {
   "cell_type": "code",
   "execution_count": null,
   "id": "e62803d4-6788-4dcb-bc85-11934c149a32",
   "metadata": {},
   "outputs": [],
   "source": []
  },
  {
   "cell_type": "code",
   "execution_count": 5,
   "id": "662bd601-71cc-44a9-bca3-20e98c3098dd",
   "metadata": {},
   "outputs": [
    {
     "name": "stdout",
     "output_type": "stream",
     "text": [
      "[8, 64, 125, 216, 512, 1000, 1728, 2744, 3375, 4096, 5832, 8000, 10648, 13824, 15625, 17576, 21952, 27000, 32768, 39304, 42875, 46656, 54872, 64000, 74088, 85184, 91125, 97336, 110592, 125000, 140608, 157464, 166375, 175616, 195112, 216000, 238328, 262144, 274625, 287496, 314432, 343000, 373248, 405224, 421875, 438976, 474552, 512000, 551368, 592704, 614125, 636056, 681472, 729000, 778688, 830584, 857375, 884736, 941192, 1000000]\n"
     ]
    }
   ],
   "source": [
    "l=[]\n",
    "for i in range(1,101):\n",
    "    l.append(i)\n",
    "#Created list containing 1 to 100\n",
    "l1=[]\n",
    "l2=[]\n",
    "for i in l:\n",
    "    l1.append(i*i*i)\n",
    "#Created list containing cubes of 1 to 100\n",
    "for i in l1:\n",
    "    if i % 5 == 0 or i % 4 == 0:\n",
    "        l2.append(i)\n",
    "print(l2)"
   ]
  },
  {
   "cell_type": "code",
   "execution_count": null,
   "id": "06191ede-7bf9-452f-bd9f-e5629e7526ac",
   "metadata": {},
   "outputs": [],
   "source": []
  },
  {
   "cell_type": "code",
   "execution_count": 6,
   "id": "efb66d83-9d36-490a-a249-4b0b9244a02d",
   "metadata": {},
   "outputs": [
    {
     "name": "stdin",
     "output_type": "stream",
     "text": [
      "Enter your unit:  310\n"
     ]
    },
    {
     "name": "stdout",
     "output_type": "stream",
     "text": [
      "Bill is:- 2250\n"
     ]
    }
   ],
   "source": [
    "unit = int(input(\"Enter your unit: \"))\n",
    "if unit <= 100:\n",
    "    bill = unit * 4.5\n",
    "elif unit >= 101 and unit <= 200:\n",
    "    bill = 450 + ((unit - 100) * 6)\n",
    "elif unit >= 201 and unit <= 300:\n",
    "    bill = 346 + 600 + ((unit - 200) * 10)\n",
    "else:\n",
    "    bill = 450 + 600 + 1000 + ((unit - 300) * 20)\n",
    "print(\"Bill is:-\",bill)"
   ]
  },
  {
   "cell_type": "code",
   "execution_count": 15,
   "id": "a978aa58-f652-4c2b-b8ff-9bf17c803ed0",
   "metadata": {},
   "outputs": [
    {
     "name": "stdout",
     "output_type": "stream",
     "text": [
      "Number of vowels are:\n",
      "11\n"
     ]
    }
   ],
   "source": [
    "string=\"I want to become data scientist\"\n",
    "vowels=0\n",
    "for i in string:\n",
    "      if(i=='a' or i=='e' or i=='i' or i=='o' or i=='u' or i=='A' or i=='E' or i=='I' or i=='O' or i=='U'):\n",
    "            vowels=vowels+1\n",
    "print(\"Number of vowels are:\")\n",
    "print(vowels)"
   ]
  },
  {
   "cell_type": "code",
   "execution_count": null,
   "id": "e77e7426-1642-4d13-aac4-9f9b53f9fa3b",
   "metadata": {},
   "outputs": [],
   "source": []
  }
 ],
 "metadata": {
  "kernelspec": {
   "display_name": "Python 3 (ipykernel)",
   "language": "python",
   "name": "python3"
  },
  "language_info": {
   "codemirror_mode": {
    "name": "ipython",
    "version": 3
   },
   "file_extension": ".py",
   "mimetype": "text/x-python",
   "name": "python",
   "nbconvert_exporter": "python",
   "pygments_lexer": "ipython3",
   "version": "3.10.8"
  }
 },
 "nbformat": 4,
 "nbformat_minor": 5
}
